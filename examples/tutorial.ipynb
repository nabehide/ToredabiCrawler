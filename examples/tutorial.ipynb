{
 "cells": [
  {
   "cell_type": "code",
   "execution_count": 1,
   "metadata": {
    "collapsed": true
   },
   "outputs": [],
   "source": [
    "# imports\n",
    "from TradeDerPy import TradeDerPy\n",
    "account = {\n",
    "    \"username\": \"YOUR_USERNAME\",\n",
    "    \"password\": \"YOUR_PASSWORD\",\n",
    "}\n",
    "config = {\n",
    "    \"headless\": False,\n",
    "    \"debug\": True,\n",
    "    \"driverPath\": \"./chromedriver\",\n",
    "}"
   ]
  },
  {
   "cell_type": "code",
   "execution_count": 2,
   "metadata": {},
   "outputs": [
    {
     "name": "stdout",
     "output_type": "stream",
     "text": [
      "[2018-01-01 16:19:34] Success init\n",
      "[2018-01-01 16:19:46] Success open\n",
      "[2018-01-01 16:20:55] Success login\n"
     ]
    },
    {
     "data": {
      "text/plain": [
       "'[2018-01-01 16:20:55] Success login'"
      ]
     },
     "execution_count": 2,
     "metadata": {},
     "output_type": "execute_result"
    }
   ],
   "source": [
    "# login\n",
    "td = TradeDerPy(account, config)\n",
    "td.open()\n",
    "td.login()"
   ]
  },
  {
   "cell_type": "code",
   "execution_count": 6,
   "metadata": {},
   "outputs": [
    {
     "name": "stdout",
     "output_type": "stream",
     "text": [
      "[2018-01-01 16:31:04] Success get status\n",
      "asset : 9812399\n",
      "power : 126433\n",
      "status: False\n",
      "[2018-01-01 16:31:09] Success get Hold\n",
      "          name  rateDay  rateHold quantity star safety unitPrice\n",
      "0   1973 NESIC     0.67     -0.41    1,200    0   True     2,965\n",
      "1    2038 原油ブル     1.18      0.70       21    2   True     1,446\n",
      "2  2162 nms HD    -0.74      1.17      300    1   True     2,146\n",
      "3    2209 井村屋G     2.78      0.43      100    1   True     3,135\n",
      "4     2351 ASJ     3.57      2.20      100   -1   True     1,534\n",
      "5   2371 カカクコム     0.31      0.90    2,100    1   True     1,905\n",
      "6     2453 JBR    -1.51     -3.90    1,100    1   True       714\n",
      "7    3023 ラサ商事    -1.66     -0.60      200    2   True     1,005\n",
      "[2018-01-01 16:31:16] Success get order\n",
      "[2018-01-01 16:31:22] Success get suggested\n",
      "   name                                       URL\n",
      "0  1689  https://www.k-zone.co.jp/td/quotes/1689T\n",
      "1  1724  https://www.k-zone.co.jp/td/quotes/1724T\n",
      "2  1898  https://www.k-zone.co.jp/td/quotes/1898T\n",
      "3  2323  https://www.k-zone.co.jp/td/quotes/2323T\n",
      "4  2372  https://www.k-zone.co.jp/td/quotes/2372T\n",
      "5  2385  https://www.k-zone.co.jp/td/quotes/2385T\n"
     ]
    }
   ],
   "source": [
    "# get data\n",
    "td.getStatus()\n",
    "td.showStatus()\n",
    "td.getHold()\n",
    "td.showHold()\n",
    "td.getOrder()\n",
    "td.showOrder()\n",
    "td.getSuggested()\n",
    "td.showSuggested()"
   ]
  },
  {
   "cell_type": "code",
   "execution_count": 7,
   "metadata": {
    "scrolled": true
   },
   "outputs": [
    {
     "name": "stdout",
     "output_type": "stream",
     "text": [
      "1301 https://www.k-zone.co.jp/td/quotes/1301T\n",
      "1408 https://www.k-zone.co.jp/td/quotes/1408T\n",
      "1430 https://www.k-zone.co.jp/td/quotes/1430T\n",
      "1689 https://www.k-zone.co.jp/td/quotes/1689T\n",
      "1724 https://www.k-zone.co.jp/td/quotes/1724T\n",
      "1898 https://www.k-zone.co.jp/td/quotes/1898T\n",
      "2038 https://www.k-zone.co.jp/td/quotes/2038T\n",
      "2323 https://www.k-zone.co.jp/td/quotes/2323T\n",
      "2372 https://www.k-zone.co.jp/td/quotes/2372T\n",
      "2385 https://www.k-zone.co.jp/td/quotes/2385T\n"
     ]
    }
   ],
   "source": [
    "# search\n",
    "from TradeDerPy.parameter import defaultSearchVariables\n",
    "\n",
    "variables = defaultSearchVariables\n",
    "variables[\"suggest\"] = 2\n",
    "stock = td.search(variables)\n",
    "\n",
    "for key in stock.keys():\n",
    "    print(key, stock[key])"
   ]
  },
  {
   "cell_type": "code",
   "execution_count": 8,
   "metadata": {},
   "outputs": [
    {
     "name": "stdout",
     "output_type": "stream",
     "text": [
      "[2018-01-01 16:32:14] Success get suggested\n",
      "[2018-01-01 16:32:37] Success buy: 1689\n"
     ]
    }
   ],
   "source": [
    "# buy\n",
    "td.getSuggested()\n",
    "if len(td.suggested) != 0:\n",
    "    name = td.suggested[\"name\"][0]\n",
    "    maximum = 100000\n",
    "    td.buy(name, maximum)"
   ]
  },
  {
   "cell_type": "code",
   "execution_count": 9,
   "metadata": {},
   "outputs": [
    {
     "name": "stdout",
     "output_type": "stream",
     "text": [
      "[2018-01-01 16:33:17] Success get Hold\n",
      "[2018-01-01 16:34:33] Success sell: 1973 NESIC\n"
     ]
    }
   ],
   "source": [
    "# sell\n",
    "td.getHold()\n",
    "if len(td.hold) != 0:\n",
    "    name = td.hold[\"name\"][0]\n",
    "    url = td.hold[\"sellURL\"][0]\n",
    "    quantity = td.hold[\"quantity\"][0]\n",
    "    td.sell(name, url, quantity)"
   ]
  },
  {
   "cell_type": "code",
   "execution_count": 10,
   "metadata": {
    "scrolled": true
   },
   "outputs": [
    {
     "name": "stdout",
     "output_type": "stream",
     "text": [
      "[2018-01-01 16:34:48] Success close\n"
     ]
    },
    {
     "data": {
      "text/plain": [
       "'[2018-01-01 16:34:48] Success close'"
      ]
     },
     "execution_count": 10,
     "metadata": {},
     "output_type": "execute_result"
    }
   ],
   "source": [
    "td.close()"
   ]
  },
  {
   "cell_type": "code",
   "execution_count": null,
   "metadata": {
    "collapsed": true
   },
   "outputs": [],
   "source": []
  }
 ],
 "metadata": {
  "kernelspec": {
   "display_name": "Python 3",
   "language": "python",
   "name": "python3"
  },
  "language_info": {
   "codemirror_mode": {
    "name": "ipython",
    "version": 3
   },
   "file_extension": ".py",
   "mimetype": "text/x-python",
   "name": "python",
   "nbconvert_exporter": "python",
   "pygments_lexer": "ipython3",
   "version": "3.6.3"
  }
 },
 "nbformat": 4,
 "nbformat_minor": 2
}
